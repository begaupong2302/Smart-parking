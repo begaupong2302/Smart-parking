{
 "cells": [
  {
   "cell_type": "code",
   "execution_count": 1,
   "metadata": {},
   "outputs": [
    {
     "ename": "ModuleNotFoundError",
     "evalue": "No module named 'ultralytics'",
     "output_type": "error",
     "traceback": [
      "\u001b[1;31m---------------------------------------------------------------------------\u001b[0m",
      "\u001b[1;31mModuleNotFoundError\u001b[0m                       Traceback (most recent call last)",
      "\u001b[1;32mc:\\Users\\admin\\Desktop\\IoT\\Bài tập lớn\\Smart-parking\\src\\test.ipynb Cell 1\u001b[0m line \u001b[0;36m1\n\u001b[1;32m----> <a href='vscode-notebook-cell:/c%3A/Users/admin/Desktop/IoT/B%C3%A0i%20t%E1%BA%ADp%20l%E1%BB%9Bn/Smart-parking/src/test.ipynb#W0sZmlsZQ%3D%3D?line=0'>1</a>\u001b[0m \u001b[39mfrom\u001b[39;00m \u001b[39multralytics\u001b[39;00m \u001b[39mimport\u001b[39;00m YOLO\n\u001b[0;32m      <a href='vscode-notebook-cell:/c%3A/Users/admin/Desktop/IoT/B%C3%A0i%20t%E1%BA%ADp%20l%E1%BB%9Bn/Smart-parking/src/test.ipynb#W0sZmlsZQ%3D%3D?line=1'>2</a>\u001b[0m \u001b[39mimport\u001b[39;00m \u001b[39mcv2\u001b[39;00m\n\u001b[0;32m      <a href='vscode-notebook-cell:/c%3A/Users/admin/Desktop/IoT/B%C3%A0i%20t%E1%BA%ADp%20l%E1%BB%9Bn/Smart-parking/src/test.ipynb#W0sZmlsZQ%3D%3D?line=2'>3</a>\u001b[0m \u001b[39mimport\u001b[39;00m \u001b[39mmatplotlib\u001b[39;00m\u001b[39m.\u001b[39;00m\u001b[39mpyplot\u001b[39;00m \u001b[39mas\u001b[39;00m \u001b[39mplt\u001b[39;00m\n",
      "\u001b[1;31mModuleNotFoundError\u001b[0m: No module named 'ultralytics'"
     ]
    }
   ],
   "source": [
    "from ultralytics import YOLO\n",
    "import cv2\n",
    "import matplotlib.pyplot as plt\n",
    "\n",
    "# Load a model\n",
    "model = YOLO('best_ocr.pt')  # pretrained YOLOv8n model\n",
    "\n",
    "# Run batched inference on a list of images\n",
    "results = model(\"bien-so-xe-cac-tinh-thanh-pho-cua-nuoc-ta-1.jpg\")  # return a list of Results objects\n",
    "\n",
    "# cv2 load image\n",
    "image = cv2.imread(\"bien-so-xe-cac-tinh-thanh-pho-cua-nuoc-ta-1.jpg\", cv2.IMREAD_COLOR)\n",
    "imageRectangle = image.copy()\n",
    "\n",
    "# Process results list\n",
    "for result in results:\n",
    "    boxes = result.boxes  # Boxes object for bbox outputs\n",
    "    h, w = result.orig_shape\n",
    "    for i in boxes.xyxyn:\n",
    "        m, n, p, q = i\n",
    "        cv2.rectangle(imageRectangle, (int(h*m), int(w*n)), (int(h*p), int(w*q)), (255, 0, 255), thickness=5, lineType=cv2.LINE_8)\n",
    "        \n",
    "# Display the image\n",
    "plt.imshow(imageRectangle[:, :, ::-1])"
   ]
  }
 ],
 "metadata": {
  "kernelspec": {
   "display_name": "Python 3",
   "language": "python",
   "name": "python3"
  },
  "language_info": {
   "codemirror_mode": {
    "name": "ipython",
    "version": 3
   },
   "file_extension": ".py",
   "mimetype": "text/x-python",
   "name": "python",
   "nbconvert_exporter": "python",
   "pygments_lexer": "ipython3",
   "version": "3.11.3"
  }
 },
 "nbformat": 4,
 "nbformat_minor": 2
}
